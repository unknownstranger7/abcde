{
  "cells": [
    {
      "cell_type": "code",
      "execution_count": null,
      "metadata": {
        "id": "cbaicokkhPZT"
      },
      "outputs": [],
      "source": [
        "# Load train and test datasets\n",
        "train_data = pd.read_csv(\"/content/drive/MyDrive/Datasets/Mobile_Price_Prediction/train.csv\")\n",
        "test_data = pd.read_csv(\"/content/drive/MyDrive/Datasets/Mobile_Price_Prediction/test.csv\")"
      ]
    },
    {
      "cell_type": "code",
      "execution_count": null,
      "metadata": {
        "colab": {
          "base_uri": "https://localhost:8080/"
        },
        "id": "mDJF0bcmkGEh",
        "outputId": "e106d4bb-b4de-4c39-c42e-c076633ee168"
      },
      "outputs": [
        {
          "data": {
            "text/plain": [
              "(2000, 21)"
            ]
          },
          "execution_count": 3,
          "metadata": {},
          "output_type": "execute_result"
        }
      ],
      "source": [
        "train_data.shape"
      ]
    },
    {
      "cell_type": "code",
      "execution_count": null,
      "metadata": {
        "colab": {
          "base_uri": "https://localhost:8080/",
          "height": 349
        },
        "id": "SSB3ggodkKpB",
        "outputId": "4d4a0e1b-fb53-4637-f988-3dddeeacdb7a"
      },
      "outputs": [
        {
          "data": {
            "application/vnd.google.colaboratory.intrinsic+json": {
              "type": "dataframe"
            },
            "text/html": [
              "\n",
              "  <div id=\"df-87cb6133-4e68-4a08-aa72-664c336ed6cb\" class=\"colab-df-container\">\n",
              "    <div>\n",
              "<style scoped>\n",
              "    .dataframe tbody tr th:only-of-type {\n",
              "        vertical-align: middle;\n",
              "    }\n",
              "\n",
              "    .dataframe tbody tr th {\n",
              "        vertical-align: top;\n",
              "    }\n",
              "\n",
              "    .dataframe thead th {\n",
              "        text-align: right;\n",
              "    }\n",
              "</style>\n",
              "<table border=\"1\" class=\"dataframe\">\n",
              "  <thead>\n",
              "    <tr style=\"text-align: right;\">\n",
              "      <th></th>\n",
              "      <th>battery_power</th>\n",
              "      <th>blue</th>\n",
              "      <th>clock_speed</th>\n",
              "      <th>dual_sim</th>\n",
              "      <th>fc</th>\n",
              "      <th>four_g</th>\n",
              "      <th>int_memory</th>\n",
              "      <th>m_dep</th>\n",
              "      <th>mobile_wt</th>\n",
              "      <th>n_cores</th>\n",
              "      <th>...</th>\n",
              "      <th>px_height</th>\n",
              "      <th>px_width</th>\n",
              "      <th>ram</th>\n",
              "      <th>sc_h</th>\n",
              "      <th>sc_w</th>\n",
              "      <th>talk_time</th>\n",
              "      <th>three_g</th>\n",
              "      <th>touch_screen</th>\n",
              "      <th>wifi</th>\n",
              "      <th>price_range</th>\n",
              "    </tr>\n",
              "  </thead>\n",
              "  <tbody>\n",
              "    <tr>\n",
              "      <th>count</th>\n",
              "      <td>2000.000000</td>\n",
              "      <td>2000.0000</td>\n",
              "      <td>2000.000000</td>\n",
              "      <td>2000.000000</td>\n",
              "      <td>2000.000000</td>\n",
              "      <td>2000.000000</td>\n",
              "      <td>2000.000000</td>\n",
              "      <td>2000.000000</td>\n",
              "      <td>2000.000000</td>\n",
              "      <td>2000.000000</td>\n",
              "      <td>...</td>\n",
              "      <td>2000.000000</td>\n",
              "      <td>2000.000000</td>\n",
              "      <td>2000.000000</td>\n",
              "      <td>2000.000000</td>\n",
              "      <td>2000.000000</td>\n",
              "      <td>2000.000000</td>\n",
              "      <td>2000.000000</td>\n",
              "      <td>2000.000000</td>\n",
              "      <td>2000.000000</td>\n",
              "      <td>2000.000000</td>\n",
              "    </tr>\n",
              "    <tr>\n",
              "      <th>mean</th>\n",
              "      <td>1238.518500</td>\n",
              "      <td>0.4950</td>\n",
              "      <td>1.522250</td>\n",
              "      <td>0.509500</td>\n",
              "      <td>4.309500</td>\n",
              "      <td>0.521500</td>\n",
              "      <td>32.046500</td>\n",
              "      <td>0.501750</td>\n",
              "      <td>140.249000</td>\n",
              "      <td>4.520500</td>\n",
              "      <td>...</td>\n",
              "      <td>645.108000</td>\n",
              "      <td>1251.515500</td>\n",
              "      <td>2124.213000</td>\n",
              "      <td>12.306500</td>\n",
              "      <td>5.767000</td>\n",
              "      <td>11.011000</td>\n",
              "      <td>0.761500</td>\n",
              "      <td>0.503000</td>\n",
              "      <td>0.507000</td>\n",
              "      <td>1.500000</td>\n",
              "    </tr>\n",
              "    <tr>\n",
              "      <th>std</th>\n",
              "      <td>439.418206</td>\n",
              "      <td>0.5001</td>\n",
              "      <td>0.816004</td>\n",
              "      <td>0.500035</td>\n",
              "      <td>4.341444</td>\n",
              "      <td>0.499662</td>\n",
              "      <td>18.145715</td>\n",
              "      <td>0.288416</td>\n",
              "      <td>35.399655</td>\n",
              "      <td>2.287837</td>\n",
              "      <td>...</td>\n",
              "      <td>443.780811</td>\n",
              "      <td>432.199447</td>\n",
              "      <td>1084.732044</td>\n",
              "      <td>4.213245</td>\n",
              "      <td>4.356398</td>\n",
              "      <td>5.463955</td>\n",
              "      <td>0.426273</td>\n",
              "      <td>0.500116</td>\n",
              "      <td>0.500076</td>\n",
              "      <td>1.118314</td>\n",
              "    </tr>\n",
              "    <tr>\n",
              "      <th>min</th>\n",
              "      <td>501.000000</td>\n",
              "      <td>0.0000</td>\n",
              "      <td>0.500000</td>\n",
              "      <td>0.000000</td>\n",
              "      <td>0.000000</td>\n",
              "      <td>0.000000</td>\n",
              "      <td>2.000000</td>\n",
              "      <td>0.100000</td>\n",
              "      <td>80.000000</td>\n",
              "      <td>1.000000</td>\n",
              "      <td>...</td>\n",
              "      <td>0.000000</td>\n",
              "      <td>500.000000</td>\n",
              "      <td>256.000000</td>\n",
              "      <td>5.000000</td>\n",
              "      <td>0.000000</td>\n",
              "      <td>2.000000</td>\n",
              "      <td>0.000000</td>\n",
              "      <td>0.000000</td>\n",
              "      <td>0.000000</td>\n",
              "      <td>0.000000</td>\n",
              "    </tr>\n",
              "    <tr>\n",
              "      <th>25%</th>\n",
              "      <td>851.750000</td>\n",
              "      <td>0.0000</td>\n",
              "      <td>0.700000</td>\n",
              "      <td>0.000000</td>\n",
              "      <td>1.000000</td>\n",
              "      <td>0.000000</td>\n",
              "      <td>16.000000</td>\n",
              "      <td>0.200000</td>\n",
              "      <td>109.000000</td>\n",
              "      <td>3.000000</td>\n",
              "      <td>...</td>\n",
              "      <td>282.750000</td>\n",
              "      <td>874.750000</td>\n",
              "      <td>1207.500000</td>\n",
              "      <td>9.000000</td>\n",
              "      <td>2.000000</td>\n",
              "      <td>6.000000</td>\n",
              "      <td>1.000000</td>\n",
              "      <td>0.000000</td>\n",
              "      <td>0.000000</td>\n",
              "      <td>0.750000</td>\n",
              "    </tr>\n",
              "    <tr>\n",
              "      <th>50%</th>\n",
              "      <td>1226.000000</td>\n",
              "      <td>0.0000</td>\n",
              "      <td>1.500000</td>\n",
              "      <td>1.000000</td>\n",
              "      <td>3.000000</td>\n",
              "      <td>1.000000</td>\n",
              "      <td>32.000000</td>\n",
              "      <td>0.500000</td>\n",
              "      <td>141.000000</td>\n",
              "      <td>4.000000</td>\n",
              "      <td>...</td>\n",
              "      <td>564.000000</td>\n",
              "      <td>1247.000000</td>\n",
              "      <td>2146.500000</td>\n",
              "      <td>12.000000</td>\n",
              "      <td>5.000000</td>\n",
              "      <td>11.000000</td>\n",
              "      <td>1.000000</td>\n",
              "      <td>1.000000</td>\n",
              "      <td>1.000000</td>\n",
              "      <td>1.500000</td>\n",
              "    </tr>\n",
              "    <tr>\n",
              "      <th>75%</th>\n",
              "      <td>1615.250000</td>\n",
              "      <td>1.0000</td>\n",
              "      <td>2.200000</td>\n",
              "      <td>1.000000</td>\n",
              "      <td>7.000000</td>\n",
              "      <td>1.000000</td>\n",
              "      <td>48.000000</td>\n",
              "      <td>0.800000</td>\n",
              "      <td>170.000000</td>\n",
              "      <td>7.000000</td>\n",
              "      <td>...</td>\n",
              "      <td>947.250000</td>\n",
              "      <td>1633.000000</td>\n",
              "      <td>3064.500000</td>\n",
              "      <td>16.000000</td>\n",
              "      <td>9.000000</td>\n",
              "      <td>16.000000</td>\n",
              "      <td>1.000000</td>\n",
              "      <td>1.000000</td>\n",
              "      <td>1.000000</td>\n",
              "      <td>2.250000</td>\n",
              "    </tr>\n",
              "    <tr>\n",
              "      <th>max</th>\n",
              "      <td>1998.000000</td>\n",
              "      <td>1.0000</td>\n",
              "      <td>3.000000</td>\n",
              "      <td>1.000000</td>\n",
              "      <td>19.000000</td>\n",
              "      <td>1.000000</td>\n",
              "      <td>64.000000</td>\n",
              "      <td>1.000000</td>\n",
              "      <td>200.000000</td>\n",
              "      <td>8.000000</td>\n",
              "      <td>...</td>\n",
              "      <td>1960.000000</td>\n",
              "      <td>1998.000000</td>\n",
              "      <td>3998.000000</td>\n",
              "      <td>19.000000</td>\n",
              "      <td>18.000000</td>\n",
              "      <td>20.000000</td>\n",
              "      <td>1.000000</td>\n",
              "      <td>1.000000</td>\n",
              "      <td>1.000000</td>\n",
              "      <td>3.000000</td>\n",
              "    </tr>\n",
              "  </tbody>\n",
              "</table>\n",
              "<p>8 rows × 21 columns</p>\n",
              "</div>\n",
              "    <div class=\"colab-df-buttons\">\n",
              "\n",
              "  <div class=\"colab-df-container\">\n",
              "    <button class=\"colab-df-convert\" onclick=\"convertToInteractive('df-87cb6133-4e68-4a08-aa72-664c336ed6cb')\"\n",
              "            title=\"Convert this dataframe to an interactive table.\"\n",
              "            style=\"display:none;\">\n",
              "\n",
              "  <svg xmlns=\"http://www.w3.org/2000/svg\" height=\"24px\" viewBox=\"0 -960 960 960\">\n",
              "    <path d=\"M120-120v-720h720v720H120Zm60-500h600v-160H180v160Zm220 220h160v-160H400v160Zm0 220h160v-160H400v160ZM180-400h160v-160H180v160Zm440 0h160v-160H620v160ZM180-180h160v-160H180v160Zm440 0h160v-160H620v160Z\"/>\n",
              "  </svg>\n",
              "    </button>\n",
              "\n",
              "  <style>\n",
              "    .colab-df-container {\n",
              "      display:flex;\n",
              "      gap: 12px;\n",
              "    }\n",
              "\n",
              "    .colab-df-convert {\n",
              "      background-color: #E8F0FE;\n",
              "      border: none;\n",
              "      border-radius: 50%;\n",
              "      cursor: pointer;\n",
              "      display: none;\n",
              "      fill: #1967D2;\n",
              "      height: 32px;\n",
              "      padding: 0 0 0 0;\n",
              "      width: 32px;\n",
              "    }\n",
              "\n",
              "    .colab-df-convert:hover {\n",
              "      background-color: #E2EBFA;\n",
              "      box-shadow: 0px 1px 2px rgba(60, 64, 67, 0.3), 0px 1px 3px 1px rgba(60, 64, 67, 0.15);\n",
              "      fill: #174EA6;\n",
              "    }\n",
              "\n",
              "    .colab-df-buttons div {\n",
              "      margin-bottom: 4px;\n",
              "    }\n",
              "\n",
              "    [theme=dark] .colab-df-convert {\n",
              "      background-color: #3B4455;\n",
              "      fill: #D2E3FC;\n",
              "    }\n",
              "\n",
              "    [theme=dark] .colab-df-convert:hover {\n",
              "      background-color: #434B5C;\n",
              "      box-shadow: 0px 1px 3px 1px rgba(0, 0, 0, 0.15);\n",
              "      filter: drop-shadow(0px 1px 2px rgba(0, 0, 0, 0.3));\n",
              "      fill: #FFFFFF;\n",
              "    }\n",
              "  </style>\n",
              "\n",
              "    <script>\n",
              "      const buttonEl =\n",
              "        document.querySelector('#df-87cb6133-4e68-4a08-aa72-664c336ed6cb button.colab-df-convert');\n",
              "      buttonEl.style.display =\n",
              "        google.colab.kernel.accessAllowed ? 'block' : 'none';\n",
              "\n",
              "      async function convertToInteractive(key) {\n",
              "        const element = document.querySelector('#df-87cb6133-4e68-4a08-aa72-664c336ed6cb');\n",
              "        const dataTable =\n",
              "          await google.colab.kernel.invokeFunction('convertToInteractive',\n",
              "                                                    [key], {});\n",
              "        if (!dataTable) return;\n",
              "\n",
              "        const docLinkHtml = 'Like what you see? Visit the ' +\n",
              "          '<a target=\"_blank\" href=https://colab.research.google.com/notebooks/data_table.ipynb>data table notebook</a>'\n",
              "          + ' to learn more about interactive tables.';\n",
              "        element.innerHTML = '';\n",
              "        dataTable['output_type'] = 'display_data';\n",
              "        await google.colab.output.renderOutput(dataTable, element);\n",
              "        const docLink = document.createElement('div');\n",
              "        docLink.innerHTML = docLinkHtml;\n",
              "        element.appendChild(docLink);\n",
              "      }\n",
              "    </script>\n",
              "  </div>\n",
              "\n",
              "\n",
              "<div id=\"df-2be89e0f-8498-4945-98d5-b1740c93ab43\">\n",
              "  <button class=\"colab-df-quickchart\" onclick=\"quickchart('df-2be89e0f-8498-4945-98d5-b1740c93ab43')\"\n",
              "            title=\"Suggest charts\"\n",
              "            style=\"display:none;\">\n",
              "\n",
              "<svg xmlns=\"http://www.w3.org/2000/svg\" height=\"24px\"viewBox=\"0 0 24 24\"\n",
              "     width=\"24px\">\n",
              "    <g>\n",
              "        <path d=\"M19 3H5c-1.1 0-2 .9-2 2v14c0 1.1.9 2 2 2h14c1.1 0 2-.9 2-2V5c0-1.1-.9-2-2-2zM9 17H7v-7h2v7zm4 0h-2V7h2v10zm4 0h-2v-4h2v4z\"/>\n",
              "    </g>\n",
              "</svg>\n",
              "  </button>\n",
              "\n",
              "<style>\n",
              "  .colab-df-quickchart {\n",
              "      --bg-color: #E8F0FE;\n",
              "      --fill-color: #1967D2;\n",
              "      --hover-bg-color: #E2EBFA;\n",
              "      --hover-fill-color: #174EA6;\n",
              "      --disabled-fill-color: #AAA;\n",
              "      --disabled-bg-color: #DDD;\n",
              "  }\n",
              "\n",
              "  [theme=dark] .colab-df-quickchart {\n",
              "      --bg-color: #3B4455;\n",
              "      --fill-color: #D2E3FC;\n",
              "      --hover-bg-color: #434B5C;\n",
              "      --hover-fill-color: #FFFFFF;\n",
              "      --disabled-bg-color: #3B4455;\n",
              "      --disabled-fill-color: #666;\n",
              "  }\n",
              "\n",
              "  .colab-df-quickchart {\n",
              "    background-color: var(--bg-color);\n",
              "    border: none;\n",
              "    border-radius: 50%;\n",
              "    cursor: pointer;\n",
              "    display: none;\n",
              "    fill: var(--fill-color);\n",
              "    height: 32px;\n",
              "    padding: 0;\n",
              "    width: 32px;\n",
              "  }\n",
              "\n",
              "  .colab-df-quickchart:hover {\n",
              "    background-color: var(--hover-bg-color);\n",
              "    box-shadow: 0 1px 2px rgba(60, 64, 67, 0.3), 0 1px 3px 1px rgba(60, 64, 67, 0.15);\n",
              "    fill: var(--button-hover-fill-color);\n",
              "  }\n",
              "\n",
              "  .colab-df-quickchart-complete:disabled,\n",
              "  .colab-df-quickchart-complete:disabled:hover {\n",
              "    background-color: var(--disabled-bg-color);\n",
              "    fill: var(--disabled-fill-color);\n",
              "    box-shadow: none;\n",
              "  }\n",
              "\n",
              "  .colab-df-spinner {\n",
              "    border: 2px solid var(--fill-color);\n",
              "    border-color: transparent;\n",
              "    border-bottom-color: var(--fill-color);\n",
              "    animation:\n",
              "      spin 1s steps(1) infinite;\n",
              "  }\n",
              "\n",
              "  @keyframes spin {\n",
              "    0% {\n",
              "      border-color: transparent;\n",
              "      border-bottom-color: var(--fill-color);\n",
              "      border-left-color: var(--fill-color);\n",
              "    }\n",
              "    20% {\n",
              "      border-color: transparent;\n",
              "      border-left-color: var(--fill-color);\n",
              "      border-top-color: var(--fill-color);\n",
              "    }\n",
              "    30% {\n",
              "      border-color: transparent;\n",
              "      border-left-color: var(--fill-color);\n",
              "      border-top-color: var(--fill-color);\n",
              "      border-right-color: var(--fill-color);\n",
              "    }\n",
              "    40% {\n",
              "      border-color: transparent;\n",
              "      border-right-color: var(--fill-color);\n",
              "      border-top-color: var(--fill-color);\n",
              "    }\n",
              "    60% {\n",
              "      border-color: transparent;\n",
              "      border-right-color: var(--fill-color);\n",
              "    }\n",
              "    80% {\n",
              "      border-color: transparent;\n",
              "      border-right-color: var(--fill-color);\n",
              "      border-bottom-color: var(--fill-color);\n",
              "    }\n",
              "    90% {\n",
              "      border-color: transparent;\n",
              "      border-bottom-color: var(--fill-color);\n",
              "    }\n",
              "  }\n",
              "</style>\n",
              "\n",
              "  <script>\n",
              "    async function quickchart(key) {\n",
              "      const quickchartButtonEl =\n",
              "        document.querySelector('#' + key + ' button');\n",
              "      quickchartButtonEl.disabled = true;  // To prevent multiple clicks.\n",
              "      quickchartButtonEl.classList.add('colab-df-spinner');\n",
              "      try {\n",
              "        const charts = await google.colab.kernel.invokeFunction(\n",
              "            'suggestCharts', [key], {});\n",
              "      } catch (error) {\n",
              "        console.error('Error during call to suggestCharts:', error);\n",
              "      }\n",
              "      quickchartButtonEl.classList.remove('colab-df-spinner');\n",
              "      quickchartButtonEl.classList.add('colab-df-quickchart-complete');\n",
              "    }\n",
              "    (() => {\n",
              "      let quickchartButtonEl =\n",
              "        document.querySelector('#df-2be89e0f-8498-4945-98d5-b1740c93ab43 button');\n",
              "      quickchartButtonEl.style.display =\n",
              "        google.colab.kernel.accessAllowed ? 'block' : 'none';\n",
              "    })();\n",
              "  </script>\n",
              "</div>\n",
              "\n",
              "    </div>\n",
              "  </div>\n"
            ],
            "text/plain": [
              "       battery_power       blue  clock_speed     dual_sim           fc  \\\n",
              "count    2000.000000  2000.0000  2000.000000  2000.000000  2000.000000   \n",
              "mean     1238.518500     0.4950     1.522250     0.509500     4.309500   \n",
              "std       439.418206     0.5001     0.816004     0.500035     4.341444   \n",
              "min       501.000000     0.0000     0.500000     0.000000     0.000000   \n",
              "25%       851.750000     0.0000     0.700000     0.000000     1.000000   \n",
              "50%      1226.000000     0.0000     1.500000     1.000000     3.000000   \n",
              "75%      1615.250000     1.0000     2.200000     1.000000     7.000000   \n",
              "max      1998.000000     1.0000     3.000000     1.000000    19.000000   \n",
              "\n",
              "            four_g   int_memory        m_dep    mobile_wt      n_cores  ...  \\\n",
              "count  2000.000000  2000.000000  2000.000000  2000.000000  2000.000000  ...   \n",
              "mean      0.521500    32.046500     0.501750   140.249000     4.520500  ...   \n",
              "std       0.499662    18.145715     0.288416    35.399655     2.287837  ...   \n",
              "min       0.000000     2.000000     0.100000    80.000000     1.000000  ...   \n",
              "25%       0.000000    16.000000     0.200000   109.000000     3.000000  ...   \n",
              "50%       1.000000    32.000000     0.500000   141.000000     4.000000  ...   \n",
              "75%       1.000000    48.000000     0.800000   170.000000     7.000000  ...   \n",
              "max       1.000000    64.000000     1.000000   200.000000     8.000000  ...   \n",
              "\n",
              "         px_height     px_width          ram         sc_h         sc_w  \\\n",
              "count  2000.000000  2000.000000  2000.000000  2000.000000  2000.000000   \n",
              "mean    645.108000  1251.515500  2124.213000    12.306500     5.767000   \n",
              "std     443.780811   432.199447  1084.732044     4.213245     4.356398   \n",
              "min       0.000000   500.000000   256.000000     5.000000     0.000000   \n",
              "25%     282.750000   874.750000  1207.500000     9.000000     2.000000   \n",
              "50%     564.000000  1247.000000  2146.500000    12.000000     5.000000   \n",
              "75%     947.250000  1633.000000  3064.500000    16.000000     9.000000   \n",
              "max    1960.000000  1998.000000  3998.000000    19.000000    18.000000   \n",
              "\n",
              "         talk_time      three_g  touch_screen         wifi  price_range  \n",
              "count  2000.000000  2000.000000   2000.000000  2000.000000  2000.000000  \n",
              "mean     11.011000     0.761500      0.503000     0.507000     1.500000  \n",
              "std       5.463955     0.426273      0.500116     0.500076     1.118314  \n",
              "min       2.000000     0.000000      0.000000     0.000000     0.000000  \n",
              "25%       6.000000     1.000000      0.000000     0.000000     0.750000  \n",
              "50%      11.000000     1.000000      1.000000     1.000000     1.500000  \n",
              "75%      16.000000     1.000000      1.000000     1.000000     2.250000  \n",
              "max      20.000000     1.000000      1.000000     1.000000     3.000000  \n",
              "\n",
              "[8 rows x 21 columns]"
            ]
          },
          "execution_count": 4,
          "metadata": {},
          "output_type": "execute_result"
        }
      ],
      "source": [
        "train_data.describe()"
      ]
    },
    {
      "cell_type": "code",
      "execution_count": null,
      "metadata": {
        "id": "8JZcYpFUkNfL"
      },
      "outputs": [],
      "source": [
        "# Separate features and target variable in train dataset\n",
        "X_train = train_data.drop(columns=['price_range'])\n",
        "y_train = train_data['price_range']"
      ]
    },
    {
      "cell_type": "code",
      "execution_count": null,
      "metadata": {
        "id": "ScgkPYW2kP5n"
      },
      "outputs": [],
      "source": [
        "# # Extract true labels from the test dataset\n",
        "# Y_test = test_data['id']\n",
        "\n",
        "# # Test dataset does not contain target variable 'price_range'\n",
        "# # Drop any ID column or irrelevant columns if necessary\n",
        "# # Assuming the test dataset has the same features as the train dataset\n",
        "# test_data.drop(columns=['id'], inplace=True)  # Remove 'id' column or any other extra columns\n",
        "# X_test = test_data\n",
        "\n",
        "# Test dataset does not contain target variable 'price_range'\n",
        "# Drop any ID column or irrelevant columns if necessary\n",
        "# Assuming the test dataset has the same features as the train dataset\n",
        "test_data.drop(columns=['id'], inplace=True)  # Remove 'id' column or any other extra columns\n",
        "X_test = test_data\n"
      ]
    },
    {
      "cell_type": "code",
      "execution_count": null,
      "metadata": {
        "id": "5Y0HMVyBkS1g"
      },
      "outputs": [],
      "source": [
        "# Standardize features\n",
        "scaler = StandardScaler()\n",
        "X_train = scaler.fit_transform(X_train)\n",
        "X_test = scaler.transform(X_test)\n"
      ]
    },
    {
      "cell_type": "code",
      "execution_count": null,
      "metadata": {
        "id": "307FRZCLk9mO"
      },
      "outputs": [],
      "source": [
        "# Build the Model\n",
        "model = tf.keras.Sequential([\n",
        "    tf.keras.layers.Dense(64, activation='relu', input_shape=(X_train.shape[1],)),\n",
        "    tf.keras.layers.Dropout(0.2),\n",
        "    tf.keras.layers.Dense(64, activation='relu'),\n",
        "    tf.keras.layers.Dropout(0.2),\n",
        "    tf.keras.layers.Dense(4, activation='softmax')  # Output layer with 4 classes (0, 1, 2, 3)\n",
        "])"
      ]
    },
    {
      "cell_type": "code",
      "execution_count": null,
      "metadata": {
        "colab": {
          "base_uri": "https://localhost:8080/"
        },
        "id": "-Tjlnb2MoqnP",
        "outputId": "a57a3c92-4269-40b8-dcc3-1e1e6270f09b"
      },
      "outputs": [
        {
          "data": {
            "text/plain": [
              "20"
            ]
          },
          "execution_count": 9,
          "metadata": {},
          "output_type": "execute_result"
        }
      ],
      "source": [
        "X_train.shape[1]"
      ]
    },
    {
      "cell_type": "code",
      "execution_count": null,
      "metadata": {
        "colab": {
          "base_uri": "https://localhost:8080/"
        },
        "id": "AftwVY-WowhN",
        "outputId": "4237f57f-0ebf-421d-a43f-38de41421cd1"
      },
      "outputs": [
        {
          "data": {
            "text/plain": [
              "20"
            ]
          },
          "execution_count": 10,
          "metadata": {},
          "output_type": "execute_result"
        }
      ],
      "source": [
        "X_test.shape[1]"
      ]
    },
    {
      "cell_type": "code",
      "execution_count": null,
      "metadata": {
        "colab": {
          "base_uri": "https://localhost:8080/"
        },
        "id": "Mq8lsOdhnD8y",
        "outputId": "0a9c196c-e87a-429d-cb78-e01264b94d54"
      },
      "outputs": [
        {
          "name": "stdout",
          "output_type": "stream",
          "text": [
            "Model: \"sequential\"\n",
            "_________________________________________________________________\n",
            " Layer (type)                Output Shape              Param #   \n",
            "=================================================================\n",
            " dense (Dense)               (None, 64)                1344      \n",
            "                                                                 \n",
            " dropout (Dropout)           (None, 64)                0         \n",
            "                                                                 \n",
            " dense_1 (Dense)             (None, 64)                4160      \n",
            "                                                                 \n",
            " dropout_1 (Dropout)         (None, 64)                0         \n",
            "                                                                 \n",
            " dense_2 (Dense)             (None, 4)                 260       \n",
            "                                                                 \n",
            "=================================================================\n",
            "Total params: 5764 (22.52 KB)\n",
            "Trainable params: 5764 (22.52 KB)\n",
            "Non-trainable params: 0 (0.00 Byte)\n",
            "_________________________________________________________________\n"
          ]
        }
      ],
      "source": [
        "model.summary()"
      ]
    },
    {
      "cell_type": "code",
      "execution_count": null,
      "metadata": {
        "id": "CHEghCW_ms2s"
      },
      "outputs": [],
      "source": [
        "# Compile the model\n",
        "model.compile(optimizer='adam', loss='sparse_categorical_crossentropy', metrics=['accuracy'])\n"
      ]
    },
    {
      "cell_type": "code",
      "execution_count": null,
      "metadata": {
        "colab": {
          "base_uri": "https://localhost:8080/"
        },
        "id": "s4T90NiBmv7g",
        "outputId": "6d26165e-81f2-4ede-e2ea-6f9c743c0ceb"
      },
      "outputs": [
        {
          "name": "stdout",
          "output_type": "stream",
          "text": [
            "Epoch 1/50\n",
            "50/50 [==============================] - 5s 8ms/step - loss: 1.3631 - accuracy: 0.3325 - val_loss: 1.1853 - val_accuracy: 0.5050\n",
            "Epoch 2/50\n",
            "50/50 [==============================] - 0s 4ms/step - loss: 1.1014 - accuracy: 0.5106 - val_loss: 0.9352 - val_accuracy: 0.6550\n",
            "Epoch 3/50\n",
            "50/50 [==============================] - 0s 4ms/step - loss: 0.8697 - accuracy: 0.6231 - val_loss: 0.7188 - val_accuracy: 0.7375\n",
            "Epoch 4/50\n",
            "50/50 [==============================] - 0s 5ms/step - loss: 0.6892 - accuracy: 0.7000 - val_loss: 0.5821 - val_accuracy: 0.8075\n",
            "Epoch 5/50\n",
            "50/50 [==============================] - 0s 4ms/step - loss: 0.5842 - accuracy: 0.7556 - val_loss: 0.4867 - val_accuracy: 0.8250\n",
            "Epoch 6/50\n",
            "50/50 [==============================] - 0s 5ms/step - loss: 0.4869 - accuracy: 0.7969 - val_loss: 0.4138 - val_accuracy: 0.8575\n",
            "Epoch 7/50\n",
            "50/50 [==============================] - 0s 4ms/step - loss: 0.4384 - accuracy: 0.8344 - val_loss: 0.3662 - val_accuracy: 0.8700\n",
            "Epoch 8/50\n",
            "50/50 [==============================] - 0s 5ms/step - loss: 0.3920 - accuracy: 0.8456 - val_loss: 0.3329 - val_accuracy: 0.8775\n",
            "Epoch 9/50\n",
            "50/50 [==============================] - 0s 5ms/step - loss: 0.3649 - accuracy: 0.8500 - val_loss: 0.3033 - val_accuracy: 0.9000\n",
            "Epoch 10/50\n",
            "50/50 [==============================] - 0s 4ms/step - loss: 0.3310 - accuracy: 0.8612 - val_loss: 0.2816 - val_accuracy: 0.9100\n",
            "Epoch 11/50\n",
            "50/50 [==============================] - 0s 4ms/step - loss: 0.3055 - accuracy: 0.8763 - val_loss: 0.2627 - val_accuracy: 0.9100\n",
            "Epoch 12/50\n",
            "50/50 [==============================] - 0s 4ms/step - loss: 0.3029 - accuracy: 0.8719 - val_loss: 0.2489 - val_accuracy: 0.9125\n",
            "Epoch 13/50\n",
            "50/50 [==============================] - 0s 5ms/step - loss: 0.2775 - accuracy: 0.8813 - val_loss: 0.2283 - val_accuracy: 0.9300\n",
            "Epoch 14/50\n",
            "50/50 [==============================] - 0s 5ms/step - loss: 0.2517 - accuracy: 0.8963 - val_loss: 0.2204 - val_accuracy: 0.9250\n",
            "Epoch 15/50\n",
            "50/50 [==============================] - 0s 5ms/step - loss: 0.2379 - accuracy: 0.9050 - val_loss: 0.2133 - val_accuracy: 0.9225\n",
            "Epoch 16/50\n",
            "50/50 [==============================] - 0s 4ms/step - loss: 0.2275 - accuracy: 0.9156 - val_loss: 0.2152 - val_accuracy: 0.9200\n",
            "Epoch 17/50\n",
            "50/50 [==============================] - 0s 4ms/step - loss: 0.2197 - accuracy: 0.9094 - val_loss: 0.1922 - val_accuracy: 0.9300\n",
            "Epoch 18/50\n",
            "50/50 [==============================] - 0s 4ms/step - loss: 0.2029 - accuracy: 0.9150 - val_loss: 0.1881 - val_accuracy: 0.9400\n",
            "Epoch 19/50\n",
            "50/50 [==============================] - 0s 4ms/step - loss: 0.2049 - accuracy: 0.9156 - val_loss: 0.1888 - val_accuracy: 0.9400\n",
            "Epoch 20/50\n",
            "50/50 [==============================] - 0s 5ms/step - loss: 0.1855 - accuracy: 0.9244 - val_loss: 0.1843 - val_accuracy: 0.9175\n",
            "Epoch 21/50\n",
            "50/50 [==============================] - 0s 4ms/step - loss: 0.1902 - accuracy: 0.9225 - val_loss: 0.1727 - val_accuracy: 0.9425\n",
            "Epoch 22/50\n",
            "50/50 [==============================] - 0s 5ms/step - loss: 0.1925 - accuracy: 0.9231 - val_loss: 0.1750 - val_accuracy: 0.9375\n",
            "Epoch 23/50\n",
            "50/50 [==============================] - 0s 4ms/step - loss: 0.1884 - accuracy: 0.9162 - val_loss: 0.1747 - val_accuracy: 0.9400\n",
            "Epoch 24/50\n",
            "50/50 [==============================] - 0s 4ms/step - loss: 0.1580 - accuracy: 0.9425 - val_loss: 0.1790 - val_accuracy: 0.9400\n",
            "Epoch 25/50\n",
            "50/50 [==============================] - 0s 4ms/step - loss: 0.1646 - accuracy: 0.9287 - val_loss: 0.1765 - val_accuracy: 0.9300\n",
            "Epoch 26/50\n",
            "50/50 [==============================] - 0s 4ms/step - loss: 0.1700 - accuracy: 0.9319 - val_loss: 0.1732 - val_accuracy: 0.9275\n",
            "Epoch 27/50\n",
            "50/50 [==============================] - 0s 5ms/step - loss: 0.1561 - accuracy: 0.9388 - val_loss: 0.1777 - val_accuracy: 0.9325\n",
            "Epoch 28/50\n",
            "50/50 [==============================] - 0s 4ms/step - loss: 0.1400 - accuracy: 0.9425 - val_loss: 0.1762 - val_accuracy: 0.9325\n",
            "Epoch 29/50\n",
            "50/50 [==============================] - 0s 4ms/step - loss: 0.1664 - accuracy: 0.9375 - val_loss: 0.1720 - val_accuracy: 0.9250\n",
            "Epoch 30/50\n",
            "50/50 [==============================] - 0s 4ms/step - loss: 0.1390 - accuracy: 0.9481 - val_loss: 0.1713 - val_accuracy: 0.9300\n",
            "Epoch 31/50\n",
            "50/50 [==============================] - 0s 4ms/step - loss: 0.1549 - accuracy: 0.9344 - val_loss: 0.1736 - val_accuracy: 0.9225\n",
            "Epoch 32/50\n",
            "50/50 [==============================] - 0s 5ms/step - loss: 0.1420 - accuracy: 0.9450 - val_loss: 0.1604 - val_accuracy: 0.9375\n",
            "Epoch 33/50\n",
            "50/50 [==============================] - 0s 4ms/step - loss: 0.1286 - accuracy: 0.9506 - val_loss: 0.1607 - val_accuracy: 0.9425\n",
            "Epoch 34/50\n",
            "50/50 [==============================] - 0s 4ms/step - loss: 0.1374 - accuracy: 0.9463 - val_loss: 0.1817 - val_accuracy: 0.9225\n",
            "Epoch 35/50\n",
            "50/50 [==============================] - 0s 4ms/step - loss: 0.1150 - accuracy: 0.9525 - val_loss: 0.1632 - val_accuracy: 0.9350\n",
            "Epoch 36/50\n",
            "50/50 [==============================] - 0s 5ms/step - loss: 0.1258 - accuracy: 0.9463 - val_loss: 0.1650 - val_accuracy: 0.9275\n",
            "Epoch 37/50\n",
            "50/50 [==============================] - 0s 4ms/step - loss: 0.1269 - accuracy: 0.9456 - val_loss: 0.1625 - val_accuracy: 0.9250\n",
            "Epoch 38/50\n",
            "50/50 [==============================] - 0s 4ms/step - loss: 0.1368 - accuracy: 0.9431 - val_loss: 0.1557 - val_accuracy: 0.9325\n",
            "Epoch 39/50\n",
            "50/50 [==============================] - 0s 4ms/step - loss: 0.1131 - accuracy: 0.9556 - val_loss: 0.1545 - val_accuracy: 0.9375\n",
            "Epoch 40/50\n",
            "50/50 [==============================] - 0s 4ms/step - loss: 0.1063 - accuracy: 0.9619 - val_loss: 0.1561 - val_accuracy: 0.9375\n",
            "Epoch 41/50\n",
            "50/50 [==============================] - 0s 5ms/step - loss: 0.1066 - accuracy: 0.9606 - val_loss: 0.1591 - val_accuracy: 0.9425\n",
            "Epoch 42/50\n",
            "50/50 [==============================] - 0s 6ms/step - loss: 0.0957 - accuracy: 0.9600 - val_loss: 0.1582 - val_accuracy: 0.9425\n",
            "Epoch 43/50\n",
            "50/50 [==============================] - 0s 6ms/step - loss: 0.0928 - accuracy: 0.9700 - val_loss: 0.1605 - val_accuracy: 0.9350\n",
            "Epoch 44/50\n",
            "50/50 [==============================] - 0s 6ms/step - loss: 0.1033 - accuracy: 0.9631 - val_loss: 0.1646 - val_accuracy: 0.9400\n",
            "Epoch 45/50\n",
            "50/50 [==============================] - 0s 7ms/step - loss: 0.0999 - accuracy: 0.9606 - val_loss: 0.1781 - val_accuracy: 0.9225\n",
            "Epoch 46/50\n",
            "50/50 [==============================] - 0s 6ms/step - loss: 0.0916 - accuracy: 0.9681 - val_loss: 0.1661 - val_accuracy: 0.9275\n",
            "Epoch 47/50\n",
            "50/50 [==============================] - 0s 6ms/step - loss: 0.0978 - accuracy: 0.9644 - val_loss: 0.1589 - val_accuracy: 0.9300\n",
            "Epoch 48/50\n",
            "50/50 [==============================] - 0s 6ms/step - loss: 0.0814 - accuracy: 0.9750 - val_loss: 0.1669 - val_accuracy: 0.9325\n",
            "Epoch 49/50\n",
            "50/50 [==============================] - 0s 6ms/step - loss: 0.1030 - accuracy: 0.9594 - val_loss: 0.1641 - val_accuracy: 0.9375\n",
            "Epoch 50/50\n",
            "50/50 [==============================] - 0s 5ms/step - loss: 0.0996 - accuracy: 0.9619 - val_loss: 0.1697 - val_accuracy: 0.9300\n"
          ]
        }
      ],
      "source": [
        "\n",
        "# Train the Model\n",
        "hist = model.fit(X_train, y_train, epochs=50, batch_size=32, validation_split=0.2)\n"
      ]
    },
    {
      "cell_type": "code",
      "execution_count": null,
      "metadata": {
        "colab": {
          "base_uri": "https://localhost:8080/"
        },
        "id": "1w5ZiowPm0fE",
        "outputId": "3f1d3376-ccaa-4775-a633-229463a6423b"
      },
      "outputs": [
        {
          "name": "stderr",
          "output_type": "stream",
          "text": [
            "/usr/local/lib/python3.10/dist-packages/keras/src/engine/training.py:3103: UserWarning: You are saving your model as an HDF5 file via `model.save()`. This file format is considered legacy. We recommend using instead the native Keras format, e.g. `model.save('my_model.keras')`.\n",
            "  saving_api.save_model(\n"
          ]
        }
      ],
      "source": [
        "# Save the trained model\n",
        "model.save(\"action.h5\")"
      ]
    },
    {
      "cell_type": "code",
      "execution_count": null,
      "metadata": {
        "colab": {
          "base_uri": "https://localhost:8080/"
        },
        "id": "kEnxhWttnz57",
        "outputId": "dc5baf8a-3f74-4b3e-bad4-051588d4235c"
      },
      "outputs": [
        {
          "name": "stdout",
          "output_type": "stream",
          "text": [
            "[[-0.44505984  1.0100505   0.34046327 ... -1.78686097  0.99401789\n",
            "  -1.01409939]\n",
            " [-0.90487356  1.0100505  -1.2530642  ...  0.55964063 -1.00601811\n",
            "  -1.01409939]\n",
            " [ 1.29403758  1.0100505   1.56625363 ... -1.78686097  0.99401789\n",
            "   0.98609664]\n",
            " ...\n",
            " [-0.12182446 -0.9900495  -0.14985287 ...  0.55964063 -1.00601811\n",
            "  -1.01409939]\n",
            " [ 0.67032987  1.0100505  -1.2530642  ... -1.78686097  0.99401789\n",
            "  -1.01409939]\n",
            " [ 0.07166151  1.0100505  -1.2530642  ...  0.55964063 -1.00601811\n",
            "   0.98609664]]\n"
          ]
        }
      ],
      "source": [
        "print(X_test)"
      ]
    },
    {
      "cell_type": "code",
      "execution_count": null,
      "metadata": {
        "colab": {
          "base_uri": "https://localhost:8080/"
        },
        "id": "ThinGLduobO6",
        "outputId": "39f17fe5-adb0-4dfc-c78c-d4ca781128e3"
      },
      "outputs": [
        {
          "data": {
            "text/plain": [
              "array([[-0.90259726, -0.9900495 ,  0.83077942, ..., -1.78686097,\n",
              "        -1.00601811,  0.98609664],\n",
              "       [-0.49513857,  1.0100505 , -1.2530642 , ...,  0.55964063,\n",
              "         0.99401789, -1.01409939],\n",
              "       [-1.5376865 ,  1.0100505 , -1.2530642 , ...,  0.55964063,\n",
              "         0.99401789, -1.01409939],\n",
              "       ...,\n",
              "       [ 1.53077336, -0.9900495 , -0.76274805, ...,  0.55964063,\n",
              "         0.99401789, -1.01409939],\n",
              "       [ 0.62252745, -0.9900495 , -0.76274805, ...,  0.55964063,\n",
              "         0.99401789,  0.98609664],\n",
              "       [-1.65833069,  1.0100505 ,  0.58562134, ...,  0.55964063,\n",
              "         0.99401789,  0.98609664]])"
            ]
          },
          "execution_count": 16,
          "metadata": {},
          "output_type": "execute_result"
        }
      ],
      "source": [
        "X_train"
      ]
    },
    {
      "cell_type": "code",
      "execution_count": null,
      "metadata": {
        "colab": {
          "base_uri": "https://localhost:8080/"
        },
        "id": "G66bDc1FpBGz",
        "outputId": "503a2641-29b3-4b27-9abb-5d0427e836b8"
      },
      "outputs": [
        {
          "name": "stdout",
          "output_type": "stream",
          "text": [
            "32/32 [==============================] - 0s 10ms/step\n"
          ]
        }
      ],
      "source": [
        "# Make predictions on test data\n",
        "predicted_probabilities = model.predict(X_test)\n",
        "predicted_classes = np.argmax(predicted_probabilities, axis=1)\n"
      ]
    },
    {
      "cell_type": "code",
      "execution_count": null,
      "metadata": {
        "id": "E2cRfetypHuN"
      },
      "outputs": [],
      "source": [
        "# You won't have true labels for test data, so you can't calculate accuracy\n",
        "# However, you can save the predicted classes to a CSV file for submission\n",
        "submission_df = pd.DataFrame({'id': test_data.index, 'price_range': predicted_classes})\n",
        "submission_df.to_csv('submission.csv', index=False)"
      ]
    },
    {
      "cell_type": "code",
      "execution_count": null,
      "metadata": {
        "colab": {
          "base_uri": "https://localhost:8080/"
        },
        "id": "DbzG2YhbpQY6",
        "outputId": "36d0f757-13e9-49d5-9610-3e3ac80a85be"
      },
      "outputs": [
        {
          "name": "stdout",
          "output_type": "stream",
          "text": [
            "Final Training Accuracy: 0.9618750214576721\n"
          ]
        }
      ],
      "source": [
        "# Get training accuracy and validation accuracy from training history\n",
        "train_accuracy = hist.history['accuracy']\n",
        "val_accuracy = hist.history['val_accuracy']\n",
        "\n",
        "# Print the final training accuracy and validation accuracy\n",
        "print(\"Final Training Accuracy:\", train_accuracy[-1])\n"
      ]
    },
    {
      "cell_type": "code",
      "execution_count": null,
      "metadata": {
        "id": "tpCD0cy3pX6Q"
      },
      "outputs": [],
      "source": []
    }
  ],
  "metadata": {
    "accelerator": "GPU",
    "colab": {
      "gpuType": "T4",
      "provenance": []
    },
    "kernelspec": {
      "display_name": "Python 3",
      "name": "python3"
    },
    "language_info": {
      "name": "python"
    }
  },
  "nbformat": 4,
  "nbformat_minor": 0
}
