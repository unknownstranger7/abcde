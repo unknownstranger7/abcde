{
  "cells": [
    {
      "cell_type": "code",
      "execution_count": null,
      "metadata": {
        "id": "jJqH7dw5rm_a"
      },
      "outputs": [],
      "source": [
        "import numpy as np\n",
        "import pandas as pd\n",
        "import matplotlib.pyplot as plt\n",
        "import seaborn as sns"
      ]
    },
    {
      "cell_type": "code",
      "execution_count": null,
      "metadata": {
        "colab": {
          "base_uri": "https://localhost:8080/",
          "height": 223
        },
        "id": "kHn-UV9mrtNJ",
        "outputId": "17303adc-188c-4a31-eabd-3dfffa4d4321"
      },
      "outputs": [],
      "source": [
        "data=pd.read_csv(\"/content/drive/MyDrive/Heart_Attack_Dataset/heart.csv\")\n",
        "print(data.shape)\n",
        "data.head()"
      ]
    },
    {
      "cell_type": "code",
      "execution_count": null,
      "metadata": {
        "colab": {
          "base_uri": "https://localhost:8080/",
          "height": 499
        },
        "id": "UDc6yvcEs4KC",
        "outputId": "f2a35f8d-1bb2-4f95-c944-2bb886a90ec5"
      },
      "outputs": [],
      "source": [
        "sns.heatmap(data.corr()) # corr - co relation"
      ]
    },
    {
      "cell_type": "code",
      "execution_count": null,
      "metadata": {
        "colab": {
          "base_uri": "https://localhost:8080/",
          "height": 745
        },
        "id": "VPv4PVlxtFTz",
        "outputId": "b1065bbc-7d89-4022-f637-93e4835ea51f"
      },
      "outputs": [],
      "source": [
        "flx,axs=plt.subplots(figsize=(12,8))\n",
        "sns.heatmap(data.corr(), annot=True) # corr - co relation"
      ]
    },
    {
      "cell_type": "code",
      "execution_count": null,
      "metadata": {
        "id": "3RhG57_rtLFk"
      },
      "outputs": [],
      "source": [
        "from sklearn.model_selection import train_test_split\n",
        "X=data.drop('output',axis=1)\n",
        "Y=data['output']\n",
        "xtrain,xtest,ytrain,ytest=train_test_split(X,Y)"
      ]
    },
    {
      "cell_type": "code",
      "execution_count": null,
      "metadata": {
        "id": "5FWs7ECVwWOG"
      },
      "outputs": [],
      "source": [
        "xnewtrain,xvalid,ynewtrain,yvalid=train_test_split(xtrain,ytrain)"
      ]
    },
    {
      "cell_type": "code",
      "execution_count": null,
      "metadata": {
        "colab": {
          "base_uri": "https://localhost:8080/"
        },
        "id": "SmbME5ruxgnx",
        "outputId": "ab08762c-c553-44d7-feec-a5b9116bf79c"
      },
      "outputs": [],
      "source": [
        "from keras import Sequential\n",
        "from keras.layers import Dense\n",
        "xnewtrain.shape[1]"
      ]
    },
    {
      "cell_type": "code",
      "execution_count": null,
      "metadata": {
        "id": "3H1F8JunykQ_"
      },
      "outputs": [],
      "source": [
        "model=Sequential()\n",
        "model.add(Dense(20, activation='relu', input_dim=xtrain.shape[1])) # input layer\n",
        "model.add(Dense(100, activation='relu')) # hidden layer 1\n",
        "model.add(Dense(100, activation='relu')) # hidden layer 2\n",
        "model.add(Dense(1, activation='sigmoid')) # output layer"
      ]
    },
    {
      "cell_type": "code",
      "execution_count": null,
      "metadata": {
        "colab": {
          "base_uri": "https://localhost:8080/"
        },
        "id": "RVzz_12Hzf2y",
        "outputId": "32d0c9dc-15c1-4ca1-e101-4ee36ce130ed"
      },
      "outputs": [],
      "source": [
        "model.summary()"
      ]
    },
    {
      "cell_type": "code",
      "execution_count": null,
      "metadata": {
        "colab": {
          "base_uri": "https://localhost:8080/",
          "height": 140
        },
        "id": "L1d6uP8YznD1",
        "outputId": "48066184-3fa4-4098-e60f-acb1a41ccacf"
      },
      "outputs": [],
      "source": [
        "'''\n",
        "0s\n",
        "model.summary()\n",
        "Model: \"sequential\"\n",
        "_________________________________________________________________\n",
        " Layer (type)                Output Shape              Param #\n",
        "=================================================================\n",
        " dense (Dense)               (None, 20)                280       (13 * 20 (i/pLayer neurons * next layer neurons) + 1*20 (bias))\n",
        "\n",
        " dense_1 (Dense)             (None, 100)               2100      (100 * 20 + 1*100)\n",
        "\n",
        " dense_2 (Dense)             (None, 100)               10100\n",
        "\n",
        " dense_3 (Dense)             (None, 1)                 101\n",
        "\n",
        "=================================================================\n",
        "Total params: 12581 (49.14 KB)\n",
        "Trainable params: 12581 (49.14 KB)\n",
        "Non-trainable params: 0 (0.00 Byte)\n",
        "_________________________________________________________________\n",
        "'''"
      ]
    },
    {
      "cell_type": "code",
      "execution_count": null,
      "metadata": {
        "id": "kSP_o3ll0HaW"
      },
      "outputs": [],
      "source": [
        "model.compile(loss='binary_crossentropy', optimizer='adam', metrics=['accuracy'])"
      ]
    },
    {
      "cell_type": "code",
      "execution_count": null,
      "metadata": {
        "colab": {
          "base_uri": "https://localhost:8080/"
        },
        "id": "RSHOe8kc0TqJ",
        "outputId": "5b436e96-fced-4a34-d22a-4dbfd0a6d5cc"
      },
      "outputs": [],
      "source": [
        "hist=model.fit(xnewtrain,ynewtrain, epochs=100, validation_data=(xvalid, yvalid), batch_size=32)"
      ]
    },
    {
      "cell_type": "code",
      "execution_count": null,
      "metadata": {
        "colab": {
          "base_uri": "https://localhost:8080/"
        },
        "id": "6UBO_cTu1cpg",
        "outputId": "10dac495-0429-487c-a61b-d690d0428581"
      },
      "outputs": [],
      "source": [
        "hist.history.keys()"
      ]
    },
    {
      "cell_type": "code",
      "execution_count": null,
      "metadata": {
        "colab": {
          "base_uri": "https://localhost:8080/",
          "height": 466
        },
        "id": "B_R8ExDj2SZ1",
        "outputId": "a4e0eed5-126d-4c10-85ad-6471142655aa"
      },
      "outputs": [],
      "source": [
        "plt.plot(hist.history['loss'], label='loss')\n",
        "plt.plot(hist.history['val_loss'], label='val_loss')\n",
        "plt.xlabel('no. of iterations')\n",
        "plt.ylabel(\"Loss\")\n",
        "plt.legend()"
      ]
    },
    {
      "cell_type": "code",
      "execution_count": null,
      "metadata": {
        "colab": {
          "base_uri": "https://localhost:8080/",
          "height": 466
        },
        "id": "yZ6mhaqE2gwn",
        "outputId": "7024ef4d-4180-4e4b-e4e9-1520881d4731"
      },
      "outputs": [],
      "source": [
        "plt.plot(hist.history['accuracy'], label='accuracy')\n",
        "plt.plot(hist.history['val_accuracy'], label='val_accuracy')\n",
        "plt.xlabel('no. of iterations')\n",
        "plt.ylabel(\"Accuracy\")\n",
        "plt.legend()"
      ]
    },
    {
      "cell_type": "code",
      "execution_count": null,
      "metadata": {
        "colab": {
          "base_uri": "https://localhost:8080/"
        },
        "id": "4hUM6JiU3JyC",
        "outputId": "f908e3fa-1cf6-4622-fa1b-d9b90b885992"
      },
      "outputs": [],
      "source": [
        "ypred=model.predict(xtest)"
      ]
    },
    {
      "cell_type": "code",
      "execution_count": null,
      "metadata": {
        "id": "C_NtIaZM3ot6"
      },
      "outputs": [],
      "source": [
        "pred=np.round(ypred)\n",
        "pred=np.asarray(pred, dtype='int')"
      ]
    },
    {
      "cell_type": "code",
      "execution_count": null,
      "metadata": {
        "colab": {
          "base_uri": "https://localhost:8080/"
        },
        "id": "njBfwePB4zHh",
        "outputId": "08bfa61e-1a9d-494c-d4c7-ad02f3c00e41"
      },
      "outputs": [],
      "source": [
        "from sklearn.metrics import accuracy_score, confusion_matrix\n",
        "accuracy_score(ytest,pred)"
      ]
    },
    {
      "cell_type": "code",
      "execution_count": null,
      "metadata": {
        "colab": {
          "base_uri": "https://localhost:8080/",
          "height": 447
        },
        "id": "bHu2pS2j5rHC",
        "outputId": "21017279-4faa-4831-d5e3-488707adbcc5"
      },
      "outputs": [],
      "source": [
        "sns.heatmap(confusion_matrix(ytest,pred), annot=True, cbar=False, xticklabels=['Y','N'], yticklabels=['Y','N'])"
      ]
    },
    {
      "cell_type": "code",
      "execution_count": null,
      "metadata": {
        "id": "pVH6-CCj5483"
      },
      "outputs": [],
      "source": []
    }
  ],
  "metadata": {
    "colab": {
      "provenance": []
    },
    "kernelspec": {
      "display_name": "Python 3",
      "name": "python3"
    },
    "language_info": {
      "name": "python"
    }
  },
  "nbformat": 4,
  "nbformat_minor": 0
}
