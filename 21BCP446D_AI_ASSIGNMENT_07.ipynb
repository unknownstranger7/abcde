{
 "cells": [
  {
   "cell_type": "markdown",
   "id": "7873ff35",
   "metadata": {},
   "source": [
    "## Assignment 7"
   ]
  },
  {
   "cell_type": "markdown",
   "id": "c5f1ceab",
   "metadata": {},
   "source": [
    "#### Roll No : 21BCP446D"
   ]
  },
  {
   "cell_type": "code",
   "execution_count": 16,
   "id": "669ac3b1",
   "metadata": {},
   "outputs": [],
   "source": [
    "from keras.utils import to_categorical\n",
    "from keras_preprocessing.image import load_img\n",
    "from keras.models import Sequential\n",
    "from keras.layers import Dense, Conv2D, Dropout, Flatten, MaxPooling2D\n",
    "import os\n",
    "import pandas as pd\n",
    "import numpy as np\n",
    "import matplotlib.pyplot as plt\n",
    "%matplotlib inline\n",
    "from sklearn.model_selection import train_test_split\n",
    "import tensorflow as tf\n",
    "from tensorflow import keras\n",
    "from tensorflow.keras import datasets, layers, models\n",
    "from PIL import Image"
   ]
  },
  {
   "cell_type": "code",
   "execution_count": 6,
   "id": "a0e96e3e",
   "metadata": {},
   "outputs": [],
   "source": [
    "vehicles_folder = 'C:/Users/Lenovo/Desktop/data/vehicles'\n",
    "non_vehicles_folder = 'C:/Users/Lenovo/Desktop/data/non-vehicles'\n",
    "\n",
    "vehicle_images = [os.path.join(vehicles_folder, img) for img in os.listdir(vehicles_folder)]\n",
    "non_vehicle_images = [os.path.join(non_vehicles_folder, img) for img in os.listdir(non_vehicles_folder)]\n",
    "\n",
    "vehicle_labels = np.ones(len(vehicle_images))\n",
    "non_vehicle_labels = np.zeros(len(non_vehicle_images))\n",
    "\n",
    "data = vehicle_images + non_vehicle_images\n",
    "labels = np.concatenate([vehicle_labels, non_vehicle_labels])\n",
    "\n",
    "X_train, X_test, y_train, y_test = train_test_split(data, labels, test_size=0.2, random_state=42)"
   ]
  },
  {
   "cell_type": "code",
   "execution_count": 18,
   "id": "bab39293",
   "metadata": {},
   "outputs": [],
   "source": [
    "def resize_images(image_paths, new_size):\n",
    "    resized_images = []\n",
    "    for img_path in image_paths:\n",
    "        img = Image.open(img_path)\n",
    "        resized_img = img.resize(new_size)\n",
    "        resized_images.append(resized_img)\n",
    "    return resized_images\n",
    "\n",
    "new_size = (64, 64)\n",
    "\n",
    "# Resize images in X_train\n",
    "X_train_resized = resize_images(X_train, new_size)\n",
    "\n",
    "# Resize images in X_test\n",
    "X_test_resized = resize_images(X_test, new_size)"
   ]
  },
  {
   "cell_type": "code",
   "execution_count": 20,
   "id": "576e9a03",
   "metadata": {},
   "outputs": [],
   "source": [
    "def images_to_array(images):\n",
    "    array_images = []\n",
    "    for img in images:\n",
    "        array_images.append(np.array(img))\n",
    "    return np.array(array_images)\n",
    "\n",
    "# Convert resized images in X_train_resized to numpy array\n",
    "X_train_array = images_to_array(X_train_resized)\n",
    "\n",
    "# Convert resized images in X_test_resized to numpy array\n",
    "X_test_array = images_to_array(X_test_resized)"
   ]
  },
  {
   "cell_type": "code",
   "execution_count": 35,
   "id": "e3957cf3",
   "metadata": {},
   "outputs": [],
   "source": [
    "model = models.Sequential([\n",
    "    \n",
    "    layers.Conv2D(16,(2,2),activation='relu',input_shape=(64,64,3)),\n",
    "    layers.MaxPooling2D((2,2)),\n",
    "    \n",
    "    layers.Conv2D(32,(2,2),activation='relu'),\n",
    "    layers.MaxPooling2D((2,2)),\n",
    "    \n",
    "    layers.Conv2D(64,(2,2),activation='relu'),\n",
    "    layers.MaxPooling2D((2,2)),\n",
    "    \n",
    "    layers.Conv2D(128,(2,2),activation='relu'),\n",
    "    layers.MaxPooling2D((2,2)),\n",
    "    \n",
    "    layers.Flatten(),\n",
    "    layers.Dense(128,activation='relu'),\n",
    "    layers.Dense(64,activation='relu'),\n",
    "    layers.Dense(1,activation='sigmoid'),\n",
    "])\n",
    "\n",
    "model.compile(\n",
    "    optimizer='adam',\n",
    "    loss='binary_crossentropy',\n",
    "    metrics=['accuracy']\n",
    ")"
   ]
  },
  {
   "cell_type": "code",
   "execution_count": 36,
   "id": "2e8498a5",
   "metadata": {},
   "outputs": [
    {
     "name": "stdout",
     "output_type": "stream",
     "text": [
      "Epoch 1/10\n",
      "333/333 [==============================] - 6s 16ms/step - loss: 0.2337 - accuracy: 0.9158 - val_loss: 0.0506 - val_accuracy: 0.9840\n",
      "Epoch 2/10\n",
      "333/333 [==============================] - 5s 16ms/step - loss: 0.0548 - accuracy: 0.9822 - val_loss: 0.0335 - val_accuracy: 0.9913\n",
      "Epoch 3/10\n",
      "333/333 [==============================] - 6s 17ms/step - loss: 0.0398 - accuracy: 0.9866 - val_loss: 0.0235 - val_accuracy: 0.9935\n",
      "Epoch 4/10\n",
      "333/333 [==============================] - 5s 16ms/step - loss: 0.0336 - accuracy: 0.9886 - val_loss: 0.0401 - val_accuracy: 0.9851\n",
      "Epoch 5/10\n",
      "333/333 [==============================] - 5s 16ms/step - loss: 0.0317 - accuracy: 0.9903 - val_loss: 0.0281 - val_accuracy: 0.9893\n",
      "Epoch 6/10\n",
      "333/333 [==============================] - 5s 16ms/step - loss: 0.0241 - accuracy: 0.9919 - val_loss: 0.0252 - val_accuracy: 0.9935\n",
      "Epoch 7/10\n",
      "333/333 [==============================] - 6s 18ms/step - loss: 0.0195 - accuracy: 0.9941 - val_loss: 0.0117 - val_accuracy: 0.9961\n",
      "Epoch 8/10\n",
      "333/333 [==============================] - 6s 17ms/step - loss: 0.0150 - accuracy: 0.9943 - val_loss: 0.0149 - val_accuracy: 0.9938\n",
      "Epoch 9/10\n",
      "333/333 [==============================] - 6s 17ms/step - loss: 0.0375 - accuracy: 0.9914 - val_loss: 0.1346 - val_accuracy: 0.9634\n",
      "Epoch 10/10\n",
      "333/333 [==============================] - 5s 16ms/step - loss: 0.0271 - accuracy: 0.9917 - val_loss: 0.0169 - val_accuracy: 0.9949\n"
     ]
    }
   ],
   "source": [
    "history = model.fit(X_train_array,y_train,epochs=10,validation_split=0.25)"
   ]
  },
  {
   "cell_type": "code",
   "execution_count": 37,
   "id": "9a537efb",
   "metadata": {},
   "outputs": [
    {
     "data": {
      "text/plain": [
       "[<matplotlib.lines.Line2D at 0x1bbff405130>]"
      ]
     },
     "execution_count": 37,
     "metadata": {},
     "output_type": "execute_result"
    },
    {
     "data": {
      "image/png": "[encoded data removed]",
      "text/plain": [
       "<Figure size 432x288 with 1 Axes>"
      ]
     },
     "metadata": {
      "needs_background": "light"
     },
     "output_type": "display_data"
    }
   ],
   "source": [
    "plt.plot(history.history['accuracy'])\n",
    "plt.plot(history.history['val_accuracy'])"
   ]
  },
  {
   "cell_type": "code",
   "execution_count": 38,
   "id": "6272d3c8",
   "metadata": {},
   "outputs": [
    {
     "data": {
      "text/plain": [
       "[<matplotlib.lines.Line2D at 0x1bbc933ad30>]"
      ]
     },
     "execution_count": 38,
     "metadata": {},
     "output_type": "execute_result"
    },
    {
     "data": {
      "image/png": "[encoded data removed]",
      "text/plain": [
       "<Figure size 432x288 with 1 Axes>"
      ]
     },
     "metadata": {
      "needs_background": "light"
     },
     "output_type": "display_data"
    }
   ],
   "source": [
    "plt.plot(history.history['loss'])\n",
    "plt.plot(history.history['val_loss'])"
   ]
  },
  {
   "cell_type": "code",
   "execution_count": 39,
   "id": "e9274699",
   "metadata": {},
   "outputs": [
    {
     "name": "stdout",
     "output_type": "stream",
     "text": [
      "111/111 [==============================] - 1s 6ms/step\n"
     ]
    }
   ],
   "source": [
    "Y_PRED = model.predict(X_test_array)"
   ]
  },
  {
   "cell_type": "code",
   "execution_count": 42,
   "id": "4bd72745",
   "metadata": {},
   "outputs": [
    {
     "data": {
      "text/plain": [
       "0.9901463963963963"
      ]
     },
     "execution_count": 42,
     "metadata": {},
     "output_type": "execute_result"
    }
   ],
   "source": [
    "Y_PRED = np.round(Y_PRED)\n",
    "accuracy_score(Y_PRED, y_test)"
   ]
  },
  {
   "cell_type": "code",
   "execution_count": null,
   "id": "9e1ab9bd",
   "metadata": {},
   "outputs": [],
   "source": []
  }
 ],
 "metadata": {
  "kernelspec": {
   "display_name": "Python 3 (ipykernel)",
   "language": "python",
   "name": "python3"
  },
  "language_info": {
   "codemirror_mode": {
    "name": "ipython",
    "version": 3
   },
   "file_extension": ".py",
   "mimetype": "text/x-python",
   "name": "python",
   "nbconvert_exporter": "python",
   "pygments_lexer": "ipython3",
   "version": "3.9.12"
  }
 },
 "nbformat": 4,
 "nbformat_minor": 5
}
